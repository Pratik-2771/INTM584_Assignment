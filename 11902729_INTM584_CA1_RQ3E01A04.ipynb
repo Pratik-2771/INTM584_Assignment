{
  "nbformat": 4,
  "nbformat_minor": 0,
  "metadata": {
    "colab": {
      "provenance": [],
      "authorship_tag": "ABX9TyMZtbbfOUcdWGy11l6fcN4a",
      "include_colab_link": true
    },
    "kernelspec": {
      "name": "python3",
      "display_name": "Python 3"
    },
    "language_info": {
      "name": "python"
    }
  },
  "cells": [
    {
      "cell_type": "markdown",
      "metadata": {
        "id": "view-in-github",
        "colab_type": "text"
      },
      "source": [
        "<a href=\"https://colab.research.google.com/github/Pratik-2771/INTM584_Assignment/blob/main/11902729_INTM584_CA1_RQ3E01A04.ipynb\" target=\"_parent\"><img src=\"https://colab.research.google.com/assets/colab-badge.svg\" alt=\"Open In Colab\"/></a>"
      ]
    },
    {
      "cell_type": "markdown",
      "source": [
        "## **Data Extraction and Pre-processing**"
      ],
      "metadata": {
        "id": "8E6BZ-dnqzx8"
      }
    },
    {
      "cell_type": "markdown",
      "source": [
        "#### **Importing required libraries**"
      ],
      "metadata": {
        "id": "5RYgfOMWXaBN"
      }
    },
    {
      "cell_type": "code",
      "execution_count": 2,
      "metadata": {
        "id": "6xl_9CBEWJXz"
      },
      "outputs": [],
      "source": [
        "import numpy as np\n",
        "import pandas as pd\n",
        "import matplotlib.pyplot as plt\n",
        "import seaborn as sns"
      ]
    },
    {
      "cell_type": "markdown",
      "source": [
        "#### **Importing dataset and storing in \"df\" variable as Dataframe**"
      ],
      "metadata": {
        "id": "83nlFk_dY-AS"
      }
    },
    {
      "cell_type": "code",
      "source": [
        "df = pd.read_csv(\"/content/HR Dataset.csv\")"
      ],
      "metadata": {
        "id": "E3BcyQ10XXqg"
      },
      "execution_count": 3,
      "outputs": []
    },
    {
      "cell_type": "markdown",
      "source": [
        "#### **Data Exploration**"
      ],
      "metadata": {
        "id": "HyfpYGNrZksN"
      }
    },
    {
      "cell_type": "code",
      "source": [
        "df"
      ],
      "metadata": {
        "colab": {
          "base_uri": "https://localhost:8080/",
          "height": 626
        },
        "id": "UqKnRZ2ZZkIZ",
        "outputId": "9c91eac8-a4bc-45b8-888f-3cd8dbb204c7"
      },
      "execution_count": 4,
      "outputs": [
        {
          "output_type": "execute_result",
          "data": {
            "text/plain": [
              "                Employee_Name  EmpID  MarriedID  MaritalStatusID  GenderID  \\\n",
              "0         Adinolfi, Wilson  K  10026          0                0         1   \n",
              "1    Ait Sidi, Karthikeyan     10084          1                1         1   \n",
              "2           Akinkuolie, Sarah  10196          1                1         0   \n",
              "3                Alagbe,Trina  10088          1                1         0   \n",
              "4            Anderson, Carol   10069          0                2         0   \n",
              "..                        ...    ...        ...              ...       ...   \n",
              "306            Woodson, Jason  10135          0                0         1   \n",
              "307        Ybarra, Catherine   10301          0                0         0   \n",
              "308          Zamora, Jennifer  10010          0                0         0   \n",
              "309               Zhou, Julia  10043          0                0         0   \n",
              "310             Zima, Colleen  10271          0                4         0   \n",
              "\n",
              "     EmpStatusID  DeptID  PerfScoreID  FromDiversityJobFairID  Salary  ...  \\\n",
              "0              1       5            4                       0   62506  ...   \n",
              "1              5       3            3                       0  104437  ...   \n",
              "2              5       5            3                       0   64955  ...   \n",
              "3              1       5            3                       0   64991  ...   \n",
              "4              5       5            3                       0   50825  ...   \n",
              "..           ...     ...          ...                     ...     ...  ...   \n",
              "306            1       5            3                       0   65893  ...   \n",
              "307            5       5            1                       0   48513  ...   \n",
              "308            1       3            4                       0  220450  ...   \n",
              "309            1       3            3                       0   89292  ...   \n",
              "310            1       5            3                       0   45046  ...   \n",
              "\n",
              "        ManagerName  ManagerID  RecruitmentSource PerformanceScore  \\\n",
              "0    Michael Albert       22.0           LinkedIn          Exceeds   \n",
              "1        Simon Roup        4.0             Indeed      Fully Meets   \n",
              "2    Kissy Sullivan       20.0           LinkedIn      Fully Meets   \n",
              "3      Elijiah Gray       16.0             Indeed      Fully Meets   \n",
              "4    Webster Butler       39.0      Google Search      Fully Meets   \n",
              "..              ...        ...                ...              ...   \n",
              "306  Kissy Sullivan       20.0           LinkedIn      Fully Meets   \n",
              "307  Brannon Miller       12.0      Google Search              PIP   \n",
              "308      Janet King        2.0  Employee Referral          Exceeds   \n",
              "309      Simon Roup        4.0  Employee Referral      Fully Meets   \n",
              "310   David Stanley       14.0           LinkedIn      Fully Meets   \n",
              "\n",
              "     EngagementSurvey EmpSatisfaction SpecialProjectsCount  \\\n",
              "0                4.60               5                    0   \n",
              "1                4.96               3                    6   \n",
              "2                3.02               3                    0   \n",
              "3                4.84               5                    0   \n",
              "4                5.00               4                    0   \n",
              "..                ...             ...                  ...   \n",
              "306              4.07               4                    0   \n",
              "307              3.20               2                    0   \n",
              "308              4.60               5                    6   \n",
              "309              5.00               3                    5   \n",
              "310              4.50               5                    0   \n",
              "\n",
              "    LastPerformanceReview_Date DaysLateLast30 Absences  \n",
              "0                    1/17/2019              0        1  \n",
              "1                    2/24/2016              0       17  \n",
              "2                    5/15/2012              0        3  \n",
              "3                     1/3/2019              0       15  \n",
              "4                     2/1/2016              0        2  \n",
              "..                         ...            ...      ...  \n",
              "306                  2/28/2019              0       13  \n",
              "307                   9/2/2015              5        4  \n",
              "308                  2/21/2019              0       16  \n",
              "309                   2/1/2019              0       11  \n",
              "310                  1/30/2019              0        2  \n",
              "\n",
              "[311 rows x 36 columns]"
            ],
            "text/html": [
              "\n",
              "  <div id=\"df-f016c130-7f2d-4e7f-b3a2-c5487f1c2d05\">\n",
              "    <div class=\"colab-df-container\">\n",
              "      <div>\n",
              "<style scoped>\n",
              "    .dataframe tbody tr th:only-of-type {\n",
              "        vertical-align: middle;\n",
              "    }\n",
              "\n",
              "    .dataframe tbody tr th {\n",
              "        vertical-align: top;\n",
              "    }\n",
              "\n",
              "    .dataframe thead th {\n",
              "        text-align: right;\n",
              "    }\n",
              "</style>\n",
              "<table border=\"1\" class=\"dataframe\">\n",
              "  <thead>\n",
              "    <tr style=\"text-align: right;\">\n",
              "      <th></th>\n",
              "      <th>Employee_Name</th>\n",
              "      <th>EmpID</th>\n",
              "      <th>MarriedID</th>\n",
              "      <th>MaritalStatusID</th>\n",
              "      <th>GenderID</th>\n",
              "      <th>EmpStatusID</th>\n",
              "      <th>DeptID</th>\n",
              "      <th>PerfScoreID</th>\n",
              "      <th>FromDiversityJobFairID</th>\n",
              "      <th>Salary</th>\n",
              "      <th>...</th>\n",
              "      <th>ManagerName</th>\n",
              "      <th>ManagerID</th>\n",
              "      <th>RecruitmentSource</th>\n",
              "      <th>PerformanceScore</th>\n",
              "      <th>EngagementSurvey</th>\n",
              "      <th>EmpSatisfaction</th>\n",
              "      <th>SpecialProjectsCount</th>\n",
              "      <th>LastPerformanceReview_Date</th>\n",
              "      <th>DaysLateLast30</th>\n",
              "      <th>Absences</th>\n",
              "    </tr>\n",
              "  </thead>\n",
              "  <tbody>\n",
              "    <tr>\n",
              "      <th>0</th>\n",
              "      <td>Adinolfi, Wilson  K</td>\n",
              "      <td>10026</td>\n",
              "      <td>0</td>\n",
              "      <td>0</td>\n",
              "      <td>1</td>\n",
              "      <td>1</td>\n",
              "      <td>5</td>\n",
              "      <td>4</td>\n",
              "      <td>0</td>\n",
              "      <td>62506</td>\n",
              "      <td>...</td>\n",
              "      <td>Michael Albert</td>\n",
              "      <td>22.0</td>\n",
              "      <td>LinkedIn</td>\n",
              "      <td>Exceeds</td>\n",
              "      <td>4.60</td>\n",
              "      <td>5</td>\n",
              "      <td>0</td>\n",
              "      <td>1/17/2019</td>\n",
              "      <td>0</td>\n",
              "      <td>1</td>\n",
              "    </tr>\n",
              "    <tr>\n",
              "      <th>1</th>\n",
              "      <td>Ait Sidi, Karthikeyan</td>\n",
              "      <td>10084</td>\n",
              "      <td>1</td>\n",
              "      <td>1</td>\n",
              "      <td>1</td>\n",
              "      <td>5</td>\n",
              "      <td>3</td>\n",
              "      <td>3</td>\n",
              "      <td>0</td>\n",
              "      <td>104437</td>\n",
              "      <td>...</td>\n",
              "      <td>Simon Roup</td>\n",
              "      <td>4.0</td>\n",
              "      <td>Indeed</td>\n",
              "      <td>Fully Meets</td>\n",
              "      <td>4.96</td>\n",
              "      <td>3</td>\n",
              "      <td>6</td>\n",
              "      <td>2/24/2016</td>\n",
              "      <td>0</td>\n",
              "      <td>17</td>\n",
              "    </tr>\n",
              "    <tr>\n",
              "      <th>2</th>\n",
              "      <td>Akinkuolie, Sarah</td>\n",
              "      <td>10196</td>\n",
              "      <td>1</td>\n",
              "      <td>1</td>\n",
              "      <td>0</td>\n",
              "      <td>5</td>\n",
              "      <td>5</td>\n",
              "      <td>3</td>\n",
              "      <td>0</td>\n",
              "      <td>64955</td>\n",
              "      <td>...</td>\n",
              "      <td>Kissy Sullivan</td>\n",
              "      <td>20.0</td>\n",
              "      <td>LinkedIn</td>\n",
              "      <td>Fully Meets</td>\n",
              "      <td>3.02</td>\n",
              "      <td>3</td>\n",
              "      <td>0</td>\n",
              "      <td>5/15/2012</td>\n",
              "      <td>0</td>\n",
              "      <td>3</td>\n",
              "    </tr>\n",
              "    <tr>\n",
              "      <th>3</th>\n",
              "      <td>Alagbe,Trina</td>\n",
              "      <td>10088</td>\n",
              "      <td>1</td>\n",
              "      <td>1</td>\n",
              "      <td>0</td>\n",
              "      <td>1</td>\n",
              "      <td>5</td>\n",
              "      <td>3</td>\n",
              "      <td>0</td>\n",
              "      <td>64991</td>\n",
              "      <td>...</td>\n",
              "      <td>Elijiah Gray</td>\n",
              "      <td>16.0</td>\n",
              "      <td>Indeed</td>\n",
              "      <td>Fully Meets</td>\n",
              "      <td>4.84</td>\n",
              "      <td>5</td>\n",
              "      <td>0</td>\n",
              "      <td>1/3/2019</td>\n",
              "      <td>0</td>\n",
              "      <td>15</td>\n",
              "    </tr>\n",
              "    <tr>\n",
              "      <th>4</th>\n",
              "      <td>Anderson, Carol</td>\n",
              "      <td>10069</td>\n",
              "      <td>0</td>\n",
              "      <td>2</td>\n",
              "      <td>0</td>\n",
              "      <td>5</td>\n",
              "      <td>5</td>\n",
              "      <td>3</td>\n",
              "      <td>0</td>\n",
              "      <td>50825</td>\n",
              "      <td>...</td>\n",
              "      <td>Webster Butler</td>\n",
              "      <td>39.0</td>\n",
              "      <td>Google Search</td>\n",
              "      <td>Fully Meets</td>\n",
              "      <td>5.00</td>\n",
              "      <td>4</td>\n",
              "      <td>0</td>\n",
              "      <td>2/1/2016</td>\n",
              "      <td>0</td>\n",
              "      <td>2</td>\n",
              "    </tr>\n",
              "    <tr>\n",
              "      <th>...</th>\n",
              "      <td>...</td>\n",
              "      <td>...</td>\n",
              "      <td>...</td>\n",
              "      <td>...</td>\n",
              "      <td>...</td>\n",
              "      <td>...</td>\n",
              "      <td>...</td>\n",
              "      <td>...</td>\n",
              "      <td>...</td>\n",
              "      <td>...</td>\n",
              "      <td>...</td>\n",
              "      <td>...</td>\n",
              "      <td>...</td>\n",
              "      <td>...</td>\n",
              "      <td>...</td>\n",
              "      <td>...</td>\n",
              "      <td>...</td>\n",
              "      <td>...</td>\n",
              "      <td>...</td>\n",
              "      <td>...</td>\n",
              "      <td>...</td>\n",
              "    </tr>\n",
              "    <tr>\n",
              "      <th>306</th>\n",
              "      <td>Woodson, Jason</td>\n",
              "      <td>10135</td>\n",
              "      <td>0</td>\n",
              "      <td>0</td>\n",
              "      <td>1</td>\n",
              "      <td>1</td>\n",
              "      <td>5</td>\n",
              "      <td>3</td>\n",
              "      <td>0</td>\n",
              "      <td>65893</td>\n",
              "      <td>...</td>\n",
              "      <td>Kissy Sullivan</td>\n",
              "      <td>20.0</td>\n",
              "      <td>LinkedIn</td>\n",
              "      <td>Fully Meets</td>\n",
              "      <td>4.07</td>\n",
              "      <td>4</td>\n",
              "      <td>0</td>\n",
              "      <td>2/28/2019</td>\n",
              "      <td>0</td>\n",
              "      <td>13</td>\n",
              "    </tr>\n",
              "    <tr>\n",
              "      <th>307</th>\n",
              "      <td>Ybarra, Catherine</td>\n",
              "      <td>10301</td>\n",
              "      <td>0</td>\n",
              "      <td>0</td>\n",
              "      <td>0</td>\n",
              "      <td>5</td>\n",
              "      <td>5</td>\n",
              "      <td>1</td>\n",
              "      <td>0</td>\n",
              "      <td>48513</td>\n",
              "      <td>...</td>\n",
              "      <td>Brannon Miller</td>\n",
              "      <td>12.0</td>\n",
              "      <td>Google Search</td>\n",
              "      <td>PIP</td>\n",
              "      <td>3.20</td>\n",
              "      <td>2</td>\n",
              "      <td>0</td>\n",
              "      <td>9/2/2015</td>\n",
              "      <td>5</td>\n",
              "      <td>4</td>\n",
              "    </tr>\n",
              "    <tr>\n",
              "      <th>308</th>\n",
              "      <td>Zamora, Jennifer</td>\n",
              "      <td>10010</td>\n",
              "      <td>0</td>\n",
              "      <td>0</td>\n",
              "      <td>0</td>\n",
              "      <td>1</td>\n",
              "      <td>3</td>\n",
              "      <td>4</td>\n",
              "      <td>0</td>\n",
              "      <td>220450</td>\n",
              "      <td>...</td>\n",
              "      <td>Janet King</td>\n",
              "      <td>2.0</td>\n",
              "      <td>Employee Referral</td>\n",
              "      <td>Exceeds</td>\n",
              "      <td>4.60</td>\n",
              "      <td>5</td>\n",
              "      <td>6</td>\n",
              "      <td>2/21/2019</td>\n",
              "      <td>0</td>\n",
              "      <td>16</td>\n",
              "    </tr>\n",
              "    <tr>\n",
              "      <th>309</th>\n",
              "      <td>Zhou, Julia</td>\n",
              "      <td>10043</td>\n",
              "      <td>0</td>\n",
              "      <td>0</td>\n",
              "      <td>0</td>\n",
              "      <td>1</td>\n",
              "      <td>3</td>\n",
              "      <td>3</td>\n",
              "      <td>0</td>\n",
              "      <td>89292</td>\n",
              "      <td>...</td>\n",
              "      <td>Simon Roup</td>\n",
              "      <td>4.0</td>\n",
              "      <td>Employee Referral</td>\n",
              "      <td>Fully Meets</td>\n",
              "      <td>5.00</td>\n",
              "      <td>3</td>\n",
              "      <td>5</td>\n",
              "      <td>2/1/2019</td>\n",
              "      <td>0</td>\n",
              "      <td>11</td>\n",
              "    </tr>\n",
              "    <tr>\n",
              "      <th>310</th>\n",
              "      <td>Zima, Colleen</td>\n",
              "      <td>10271</td>\n",
              "      <td>0</td>\n",
              "      <td>4</td>\n",
              "      <td>0</td>\n",
              "      <td>1</td>\n",
              "      <td>5</td>\n",
              "      <td>3</td>\n",
              "      <td>0</td>\n",
              "      <td>45046</td>\n",
              "      <td>...</td>\n",
              "      <td>David Stanley</td>\n",
              "      <td>14.0</td>\n",
              "      <td>LinkedIn</td>\n",
              "      <td>Fully Meets</td>\n",
              "      <td>4.50</td>\n",
              "      <td>5</td>\n",
              "      <td>0</td>\n",
              "      <td>1/30/2019</td>\n",
              "      <td>0</td>\n",
              "      <td>2</td>\n",
              "    </tr>\n",
              "  </tbody>\n",
              "</table>\n",
              "<p>311 rows × 36 columns</p>\n",
              "</div>\n",
              "      <button class=\"colab-df-convert\" onclick=\"convertToInteractive('df-f016c130-7f2d-4e7f-b3a2-c5487f1c2d05')\"\n",
              "              title=\"Convert this dataframe to an interactive table.\"\n",
              "              style=\"display:none;\">\n",
              "        \n",
              "  <svg xmlns=\"http://www.w3.org/2000/svg\" height=\"24px\"viewBox=\"0 0 24 24\"\n",
              "       width=\"24px\">\n",
              "    <path d=\"M0 0h24v24H0V0z\" fill=\"none\"/>\n",
              "    <path d=\"M18.56 5.44l.94 2.06.94-2.06 2.06-.94-2.06-.94-.94-2.06-.94 2.06-2.06.94zm-11 1L8.5 8.5l.94-2.06 2.06-.94-2.06-.94L8.5 2.5l-.94 2.06-2.06.94zm10 10l.94 2.06.94-2.06 2.06-.94-2.06-.94-.94-2.06-.94 2.06-2.06.94z\"/><path d=\"M17.41 7.96l-1.37-1.37c-.4-.4-.92-.59-1.43-.59-.52 0-1.04.2-1.43.59L10.3 9.45l-7.72 7.72c-.78.78-.78 2.05 0 2.83L4 21.41c.39.39.9.59 1.41.59.51 0 1.02-.2 1.41-.59l7.78-7.78 2.81-2.81c.8-.78.8-2.07 0-2.86zM5.41 20L4 18.59l7.72-7.72 1.47 1.35L5.41 20z\"/>\n",
              "  </svg>\n",
              "      </button>\n",
              "      \n",
              "  <style>\n",
              "    .colab-df-container {\n",
              "      display:flex;\n",
              "      flex-wrap:wrap;\n",
              "      gap: 12px;\n",
              "    }\n",
              "\n",
              "    .colab-df-convert {\n",
              "      background-color: #E8F0FE;\n",
              "      border: none;\n",
              "      border-radius: 50%;\n",
              "      cursor: pointer;\n",
              "      display: none;\n",
              "      fill: #1967D2;\n",
              "      height: 32px;\n",
              "      padding: 0 0 0 0;\n",
              "      width: 32px;\n",
              "    }\n",
              "\n",
              "    .colab-df-convert:hover {\n",
              "      background-color: #E2EBFA;\n",
              "      box-shadow: 0px 1px 2px rgba(60, 64, 67, 0.3), 0px 1px 3px 1px rgba(60, 64, 67, 0.15);\n",
              "      fill: #174EA6;\n",
              "    }\n",
              "\n",
              "    [theme=dark] .colab-df-convert {\n",
              "      background-color: #3B4455;\n",
              "      fill: #D2E3FC;\n",
              "    }\n",
              "\n",
              "    [theme=dark] .colab-df-convert:hover {\n",
              "      background-color: #434B5C;\n",
              "      box-shadow: 0px 1px 3px 1px rgba(0, 0, 0, 0.15);\n",
              "      filter: drop-shadow(0px 1px 2px rgba(0, 0, 0, 0.3));\n",
              "      fill: #FFFFFF;\n",
              "    }\n",
              "  </style>\n",
              "\n",
              "      <script>\n",
              "        const buttonEl =\n",
              "          document.querySelector('#df-f016c130-7f2d-4e7f-b3a2-c5487f1c2d05 button.colab-df-convert');\n",
              "        buttonEl.style.display =\n",
              "          google.colab.kernel.accessAllowed ? 'block' : 'none';\n",
              "\n",
              "        async function convertToInteractive(key) {\n",
              "          const element = document.querySelector('#df-f016c130-7f2d-4e7f-b3a2-c5487f1c2d05');\n",
              "          const dataTable =\n",
              "            await google.colab.kernel.invokeFunction('convertToInteractive',\n",
              "                                                     [key], {});\n",
              "          if (!dataTable) return;\n",
              "\n",
              "          const docLinkHtml = 'Like what you see? Visit the ' +\n",
              "            '<a target=\"_blank\" href=https://colab.research.google.com/notebooks/data_table.ipynb>data table notebook</a>'\n",
              "            + ' to learn more about interactive tables.';\n",
              "          element.innerHTML = '';\n",
              "          dataTable['output_type'] = 'display_data';\n",
              "          await google.colab.output.renderOutput(dataTable, element);\n",
              "          const docLink = document.createElement('div');\n",
              "          docLink.innerHTML = docLinkHtml;\n",
              "          element.appendChild(docLink);\n",
              "        }\n",
              "      </script>\n",
              "    </div>\n",
              "  </div>\n",
              "  "
            ]
          },
          "metadata": {},
          "execution_count": 4
        }
      ]
    },
    {
      "cell_type": "code",
      "source": [
        "df.info()"
      ],
      "metadata": {
        "colab": {
          "base_uri": "https://localhost:8080/"
        },
        "id": "SAu5r5tJZXDg",
        "outputId": "366904c2-d2f7-4e33-8b99-fa961a23c11f"
      },
      "execution_count": 5,
      "outputs": [
        {
          "output_type": "stream",
          "name": "stdout",
          "text": [
            "<class 'pandas.core.frame.DataFrame'>\n",
            "RangeIndex: 311 entries, 0 to 310\n",
            "Data columns (total 36 columns):\n",
            " #   Column                      Non-Null Count  Dtype  \n",
            "---  ------                      --------------  -----  \n",
            " 0   Employee_Name               311 non-null    object \n",
            " 1   EmpID                       311 non-null    int64  \n",
            " 2   MarriedID                   311 non-null    int64  \n",
            " 3   MaritalStatusID             311 non-null    int64  \n",
            " 4   GenderID                    311 non-null    int64  \n",
            " 5   EmpStatusID                 311 non-null    int64  \n",
            " 6   DeptID                      311 non-null    int64  \n",
            " 7   PerfScoreID                 311 non-null    int64  \n",
            " 8   FromDiversityJobFairID      311 non-null    int64  \n",
            " 9   Salary                      311 non-null    int64  \n",
            " 10  Termd                       311 non-null    int64  \n",
            " 11  PositionID                  311 non-null    int64  \n",
            " 12  Position                    311 non-null    object \n",
            " 13  State                       311 non-null    object \n",
            " 14  Zip                         311 non-null    int64  \n",
            " 15  DOB                         311 non-null    object \n",
            " 16  Sex                         311 non-null    object \n",
            " 17  MaritalDesc                 311 non-null    object \n",
            " 18  CitizenDesc                 311 non-null    object \n",
            " 19  HispanicLatino              311 non-null    object \n",
            " 20  RaceDesc                    311 non-null    object \n",
            " 21  DateofHire                  311 non-null    object \n",
            " 22  DateofTermination           104 non-null    object \n",
            " 23  TermReason                  311 non-null    object \n",
            " 24  EmploymentStatus            311 non-null    object \n",
            " 25  Department                  311 non-null    object \n",
            " 26  ManagerName                 311 non-null    object \n",
            " 27  ManagerID                   303 non-null    float64\n",
            " 28  RecruitmentSource           311 non-null    object \n",
            " 29  PerformanceScore            311 non-null    object \n",
            " 30  EngagementSurvey            310 non-null    float64\n",
            " 31  EmpSatisfaction             311 non-null    int64  \n",
            " 32  SpecialProjectsCount        311 non-null    int64  \n",
            " 33  LastPerformanceReview_Date  311 non-null    object \n",
            " 34  DaysLateLast30              311 non-null    int64  \n",
            " 35  Absences                    311 non-null    int64  \n",
            "dtypes: float64(2), int64(16), object(18)\n",
            "memory usage: 87.6+ KB\n"
          ]
        }
      ]
    },
    {
      "cell_type": "code",
      "source": [
        "df.describe()"
      ],
      "metadata": {
        "colab": {
          "base_uri": "https://localhost:8080/",
          "height": 364
        },
        "id": "pna2pyjOZ0Sr",
        "outputId": "1326efe1-3332-4a79-8f58-2a75518fd67c"
      },
      "execution_count": 6,
      "outputs": [
        {
          "output_type": "execute_result",
          "data": {
            "text/plain": [
              "              EmpID   MarriedID  MaritalStatusID    GenderID  EmpStatusID  \\\n",
              "count    311.000000  311.000000       311.000000  311.000000   311.000000   \n",
              "mean   10156.000000    0.398714         0.810289    0.434084     2.392283   \n",
              "std       89.922189    0.490423         0.943239    0.496435     1.794383   \n",
              "min    10001.000000    0.000000         0.000000    0.000000     1.000000   \n",
              "25%    10078.500000    0.000000         0.000000    0.000000     1.000000   \n",
              "50%    10156.000000    0.000000         1.000000    0.000000     1.000000   \n",
              "75%    10233.500000    1.000000         1.000000    1.000000     5.000000   \n",
              "max    10311.000000    1.000000         4.000000    1.000000     5.000000   \n",
              "\n",
              "           DeptID  PerfScoreID  FromDiversityJobFairID         Salary  \\\n",
              "count  311.000000   311.000000              311.000000     311.000000   \n",
              "mean     4.610932     2.977492                0.093248   69020.684887   \n",
              "std      1.083487     0.587072                0.291248   25156.636930   \n",
              "min      1.000000     1.000000                0.000000   45046.000000   \n",
              "25%      5.000000     3.000000                0.000000   55501.500000   \n",
              "50%      5.000000     3.000000                0.000000   62810.000000   \n",
              "75%      5.000000     3.000000                0.000000   72036.000000   \n",
              "max      6.000000     4.000000                1.000000  250000.000000   \n",
              "\n",
              "            Termd  PositionID           Zip   ManagerID  EngagementSurvey  \\\n",
              "count  311.000000  311.000000    311.000000  303.000000        310.000000   \n",
              "mean     0.334405   16.845659   6555.482315   14.570957          4.112323   \n",
              "std      0.472542    6.223419  16908.396884    8.078306          0.790150   \n",
              "min      0.000000    1.000000   1013.000000    1.000000          1.120000   \n",
              "25%      0.000000   18.000000   1901.500000   10.000000          3.692500   \n",
              "50%      0.000000   19.000000   2132.000000   15.000000          4.285000   \n",
              "75%      1.000000   20.000000   2355.000000   19.000000          4.700000   \n",
              "max      1.000000   30.000000  98052.000000   39.000000          5.000000   \n",
              "\n",
              "       EmpSatisfaction  SpecialProjectsCount  DaysLateLast30    Absences  \n",
              "count       311.000000            311.000000      311.000000  311.000000  \n",
              "mean          3.890675              1.218650        0.414791   10.237942  \n",
              "std           0.909241              2.349421        1.294519    5.852596  \n",
              "min           1.000000              0.000000        0.000000    1.000000  \n",
              "25%           3.000000              0.000000        0.000000    5.000000  \n",
              "50%           4.000000              0.000000        0.000000   10.000000  \n",
              "75%           5.000000              0.000000        0.000000   15.000000  \n",
              "max           5.000000              8.000000        6.000000   20.000000  "
            ],
            "text/html": [
              "\n",
              "  <div id=\"df-029ee2a5-ab1b-4688-98cf-78329412ea9b\">\n",
              "    <div class=\"colab-df-container\">\n",
              "      <div>\n",
              "<style scoped>\n",
              "    .dataframe tbody tr th:only-of-type {\n",
              "        vertical-align: middle;\n",
              "    }\n",
              "\n",
              "    .dataframe tbody tr th {\n",
              "        vertical-align: top;\n",
              "    }\n",
              "\n",
              "    .dataframe thead th {\n",
              "        text-align: right;\n",
              "    }\n",
              "</style>\n",
              "<table border=\"1\" class=\"dataframe\">\n",
              "  <thead>\n",
              "    <tr style=\"text-align: right;\">\n",
              "      <th></th>\n",
              "      <th>EmpID</th>\n",
              "      <th>MarriedID</th>\n",
              "      <th>MaritalStatusID</th>\n",
              "      <th>GenderID</th>\n",
              "      <th>EmpStatusID</th>\n",
              "      <th>DeptID</th>\n",
              "      <th>PerfScoreID</th>\n",
              "      <th>FromDiversityJobFairID</th>\n",
              "      <th>Salary</th>\n",
              "      <th>Termd</th>\n",
              "      <th>PositionID</th>\n",
              "      <th>Zip</th>\n",
              "      <th>ManagerID</th>\n",
              "      <th>EngagementSurvey</th>\n",
              "      <th>EmpSatisfaction</th>\n",
              "      <th>SpecialProjectsCount</th>\n",
              "      <th>DaysLateLast30</th>\n",
              "      <th>Absences</th>\n",
              "    </tr>\n",
              "  </thead>\n",
              "  <tbody>\n",
              "    <tr>\n",
              "      <th>count</th>\n",
              "      <td>311.000000</td>\n",
              "      <td>311.000000</td>\n",
              "      <td>311.000000</td>\n",
              "      <td>311.000000</td>\n",
              "      <td>311.000000</td>\n",
              "      <td>311.000000</td>\n",
              "      <td>311.000000</td>\n",
              "      <td>311.000000</td>\n",
              "      <td>311.000000</td>\n",
              "      <td>311.000000</td>\n",
              "      <td>311.000000</td>\n",
              "      <td>311.000000</td>\n",
              "      <td>303.000000</td>\n",
              "      <td>310.000000</td>\n",
              "      <td>311.000000</td>\n",
              "      <td>311.000000</td>\n",
              "      <td>311.000000</td>\n",
              "      <td>311.000000</td>\n",
              "    </tr>\n",
              "    <tr>\n",
              "      <th>mean</th>\n",
              "      <td>10156.000000</td>\n",
              "      <td>0.398714</td>\n",
              "      <td>0.810289</td>\n",
              "      <td>0.434084</td>\n",
              "      <td>2.392283</td>\n",
              "      <td>4.610932</td>\n",
              "      <td>2.977492</td>\n",
              "      <td>0.093248</td>\n",
              "      <td>69020.684887</td>\n",
              "      <td>0.334405</td>\n",
              "      <td>16.845659</td>\n",
              "      <td>6555.482315</td>\n",
              "      <td>14.570957</td>\n",
              "      <td>4.112323</td>\n",
              "      <td>3.890675</td>\n",
              "      <td>1.218650</td>\n",
              "      <td>0.414791</td>\n",
              "      <td>10.237942</td>\n",
              "    </tr>\n",
              "    <tr>\n",
              "      <th>std</th>\n",
              "      <td>89.922189</td>\n",
              "      <td>0.490423</td>\n",
              "      <td>0.943239</td>\n",
              "      <td>0.496435</td>\n",
              "      <td>1.794383</td>\n",
              "      <td>1.083487</td>\n",
              "      <td>0.587072</td>\n",
              "      <td>0.291248</td>\n",
              "      <td>25156.636930</td>\n",
              "      <td>0.472542</td>\n",
              "      <td>6.223419</td>\n",
              "      <td>16908.396884</td>\n",
              "      <td>8.078306</td>\n",
              "      <td>0.790150</td>\n",
              "      <td>0.909241</td>\n",
              "      <td>2.349421</td>\n",
              "      <td>1.294519</td>\n",
              "      <td>5.852596</td>\n",
              "    </tr>\n",
              "    <tr>\n",
              "      <th>min</th>\n",
              "      <td>10001.000000</td>\n",
              "      <td>0.000000</td>\n",
              "      <td>0.000000</td>\n",
              "      <td>0.000000</td>\n",
              "      <td>1.000000</td>\n",
              "      <td>1.000000</td>\n",
              "      <td>1.000000</td>\n",
              "      <td>0.000000</td>\n",
              "      <td>45046.000000</td>\n",
              "      <td>0.000000</td>\n",
              "      <td>1.000000</td>\n",
              "      <td>1013.000000</td>\n",
              "      <td>1.000000</td>\n",
              "      <td>1.120000</td>\n",
              "      <td>1.000000</td>\n",
              "      <td>0.000000</td>\n",
              "      <td>0.000000</td>\n",
              "      <td>1.000000</td>\n",
              "    </tr>\n",
              "    <tr>\n",
              "      <th>25%</th>\n",
              "      <td>10078.500000</td>\n",
              "      <td>0.000000</td>\n",
              "      <td>0.000000</td>\n",
              "      <td>0.000000</td>\n",
              "      <td>1.000000</td>\n",
              "      <td>5.000000</td>\n",
              "      <td>3.000000</td>\n",
              "      <td>0.000000</td>\n",
              "      <td>55501.500000</td>\n",
              "      <td>0.000000</td>\n",
              "      <td>18.000000</td>\n",
              "      <td>1901.500000</td>\n",
              "      <td>10.000000</td>\n",
              "      <td>3.692500</td>\n",
              "      <td>3.000000</td>\n",
              "      <td>0.000000</td>\n",
              "      <td>0.000000</td>\n",
              "      <td>5.000000</td>\n",
              "    </tr>\n",
              "    <tr>\n",
              "      <th>50%</th>\n",
              "      <td>10156.000000</td>\n",
              "      <td>0.000000</td>\n",
              "      <td>1.000000</td>\n",
              "      <td>0.000000</td>\n",
              "      <td>1.000000</td>\n",
              "      <td>5.000000</td>\n",
              "      <td>3.000000</td>\n",
              "      <td>0.000000</td>\n",
              "      <td>62810.000000</td>\n",
              "      <td>0.000000</td>\n",
              "      <td>19.000000</td>\n",
              "      <td>2132.000000</td>\n",
              "      <td>15.000000</td>\n",
              "      <td>4.285000</td>\n",
              "      <td>4.000000</td>\n",
              "      <td>0.000000</td>\n",
              "      <td>0.000000</td>\n",
              "      <td>10.000000</td>\n",
              "    </tr>\n",
              "    <tr>\n",
              "      <th>75%</th>\n",
              "      <td>10233.500000</td>\n",
              "      <td>1.000000</td>\n",
              "      <td>1.000000</td>\n",
              "      <td>1.000000</td>\n",
              "      <td>5.000000</td>\n",
              "      <td>5.000000</td>\n",
              "      <td>3.000000</td>\n",
              "      <td>0.000000</td>\n",
              "      <td>72036.000000</td>\n",
              "      <td>1.000000</td>\n",
              "      <td>20.000000</td>\n",
              "      <td>2355.000000</td>\n",
              "      <td>19.000000</td>\n",
              "      <td>4.700000</td>\n",
              "      <td>5.000000</td>\n",
              "      <td>0.000000</td>\n",
              "      <td>0.000000</td>\n",
              "      <td>15.000000</td>\n",
              "    </tr>\n",
              "    <tr>\n",
              "      <th>max</th>\n",
              "      <td>10311.000000</td>\n",
              "      <td>1.000000</td>\n",
              "      <td>4.000000</td>\n",
              "      <td>1.000000</td>\n",
              "      <td>5.000000</td>\n",
              "      <td>6.000000</td>\n",
              "      <td>4.000000</td>\n",
              "      <td>1.000000</td>\n",
              "      <td>250000.000000</td>\n",
              "      <td>1.000000</td>\n",
              "      <td>30.000000</td>\n",
              "      <td>98052.000000</td>\n",
              "      <td>39.000000</td>\n",
              "      <td>5.000000</td>\n",
              "      <td>5.000000</td>\n",
              "      <td>8.000000</td>\n",
              "      <td>6.000000</td>\n",
              "      <td>20.000000</td>\n",
              "    </tr>\n",
              "  </tbody>\n",
              "</table>\n",
              "</div>\n",
              "      <button class=\"colab-df-convert\" onclick=\"convertToInteractive('df-029ee2a5-ab1b-4688-98cf-78329412ea9b')\"\n",
              "              title=\"Convert this dataframe to an interactive table.\"\n",
              "              style=\"display:none;\">\n",
              "        \n",
              "  <svg xmlns=\"http://www.w3.org/2000/svg\" height=\"24px\"viewBox=\"0 0 24 24\"\n",
              "       width=\"24px\">\n",
              "    <path d=\"M0 0h24v24H0V0z\" fill=\"none\"/>\n",
              "    <path d=\"M18.56 5.44l.94 2.06.94-2.06 2.06-.94-2.06-.94-.94-2.06-.94 2.06-2.06.94zm-11 1L8.5 8.5l.94-2.06 2.06-.94-2.06-.94L8.5 2.5l-.94 2.06-2.06.94zm10 10l.94 2.06.94-2.06 2.06-.94-2.06-.94-.94-2.06-.94 2.06-2.06.94z\"/><path d=\"M17.41 7.96l-1.37-1.37c-.4-.4-.92-.59-1.43-.59-.52 0-1.04.2-1.43.59L10.3 9.45l-7.72 7.72c-.78.78-.78 2.05 0 2.83L4 21.41c.39.39.9.59 1.41.59.51 0 1.02-.2 1.41-.59l7.78-7.78 2.81-2.81c.8-.78.8-2.07 0-2.86zM5.41 20L4 18.59l7.72-7.72 1.47 1.35L5.41 20z\"/>\n",
              "  </svg>\n",
              "      </button>\n",
              "      \n",
              "  <style>\n",
              "    .colab-df-container {\n",
              "      display:flex;\n",
              "      flex-wrap:wrap;\n",
              "      gap: 12px;\n",
              "    }\n",
              "\n",
              "    .colab-df-convert {\n",
              "      background-color: #E8F0FE;\n",
              "      border: none;\n",
              "      border-radius: 50%;\n",
              "      cursor: pointer;\n",
              "      display: none;\n",
              "      fill: #1967D2;\n",
              "      height: 32px;\n",
              "      padding: 0 0 0 0;\n",
              "      width: 32px;\n",
              "    }\n",
              "\n",
              "    .colab-df-convert:hover {\n",
              "      background-color: #E2EBFA;\n",
              "      box-shadow: 0px 1px 2px rgba(60, 64, 67, 0.3), 0px 1px 3px 1px rgba(60, 64, 67, 0.15);\n",
              "      fill: #174EA6;\n",
              "    }\n",
              "\n",
              "    [theme=dark] .colab-df-convert {\n",
              "      background-color: #3B4455;\n",
              "      fill: #D2E3FC;\n",
              "    }\n",
              "\n",
              "    [theme=dark] .colab-df-convert:hover {\n",
              "      background-color: #434B5C;\n",
              "      box-shadow: 0px 1px 3px 1px rgba(0, 0, 0, 0.15);\n",
              "      filter: drop-shadow(0px 1px 2px rgba(0, 0, 0, 0.3));\n",
              "      fill: #FFFFFF;\n",
              "    }\n",
              "  </style>\n",
              "\n",
              "      <script>\n",
              "        const buttonEl =\n",
              "          document.querySelector('#df-029ee2a5-ab1b-4688-98cf-78329412ea9b button.colab-df-convert');\n",
              "        buttonEl.style.display =\n",
              "          google.colab.kernel.accessAllowed ? 'block' : 'none';\n",
              "\n",
              "        async function convertToInteractive(key) {\n",
              "          const element = document.querySelector('#df-029ee2a5-ab1b-4688-98cf-78329412ea9b');\n",
              "          const dataTable =\n",
              "            await google.colab.kernel.invokeFunction('convertToInteractive',\n",
              "                                                     [key], {});\n",
              "          if (!dataTable) return;\n",
              "\n",
              "          const docLinkHtml = 'Like what you see? Visit the ' +\n",
              "            '<a target=\"_blank\" href=https://colab.research.google.com/notebooks/data_table.ipynb>data table notebook</a>'\n",
              "            + ' to learn more about interactive tables.';\n",
              "          element.innerHTML = '';\n",
              "          dataTable['output_type'] = 'display_data';\n",
              "          await google.colab.output.renderOutput(dataTable, element);\n",
              "          const docLink = document.createElement('div');\n",
              "          docLink.innerHTML = docLinkHtml;\n",
              "          element.appendChild(docLink);\n",
              "        }\n",
              "      </script>\n",
              "    </div>\n",
              "  </div>\n",
              "  "
            ]
          },
          "metadata": {},
          "execution_count": 6
        }
      ]
    },
    {
      "cell_type": "markdown",
      "source": [
        "## **PART - A**"
      ],
      "metadata": {
        "id": "FyvbaM-jZ__y"
      }
    },
    {
      "cell_type": "markdown",
      "source": [
        "#### **Question 1 : Find the person with highest Salary.**"
      ],
      "metadata": {
        "id": "E40wBfJ-aXY7"
      }
    },
    {
      "cell_type": "code",
      "source": [
        "max_sal = df.Salary.max()\n",
        "max_sal_emp = df.Employee_Name.loc[(df[\"Salary\"]==max_sal)].max()\n",
        "print(\"Person with highest salary is \\\"{emp}\\\" having salary {sal}\".format(emp = max_sal_emp, sal = max_sal))"
      ],
      "metadata": {
        "colab": {
          "base_uri": "https://localhost:8080/"
        },
        "id": "TFUQSWSmZ5pg",
        "outputId": "1096d11e-c66d-4037-d2cb-a2a89d74d718"
      },
      "execution_count": 7,
      "outputs": [
        {
          "output_type": "stream",
          "name": "stdout",
          "text": [
            "Person with highest salary is \"King, Janet\" having salary 250000\n"
          ]
        }
      ]
    },
    {
      "cell_type": "markdown",
      "source": [
        "#### **Question 2 : Drop the NaN Values in “EngagementSurvey”.**"
      ],
      "metadata": {
        "id": "d7pnEBLhbscm"
      }
    },
    {
      "cell_type": "code",
      "source": [
        "df.dropna(subset=['EngagementSurvey'], inplace=True) "
      ],
      "metadata": {
        "id": "zrnA7PTKbmld"
      },
      "execution_count": 8,
      "outputs": []
    },
    {
      "cell_type": "code",
      "source": [
        "print(\"Number of NaN Values in \\\"EngagementSurvey\\\" : \",df['EngagementSurvey'].isnull().sum())"
      ],
      "metadata": {
        "colab": {
          "base_uri": "https://localhost:8080/"
        },
        "id": "Dqkmemm7cxI5",
        "outputId": "e3e19d4f-9840-47ef-cc31-b1c23c92721f"
      },
      "execution_count": 9,
      "outputs": [
        {
          "output_type": "stream",
          "name": "stdout",
          "text": [
            "Number of NaN Values in \"EngagementSurvey\" :  0\n"
          ]
        }
      ]
    },
    {
      "cell_type": "markdown",
      "source": [
        "#### **Question 3 : Display the STD deviation of “EngagementSurvey”.**"
      ],
      "metadata": {
        "id": "2DRrzYkkcr5S"
      }
    },
    {
      "cell_type": "code",
      "source": [
        "print(\"Standard Deviation of \\\"EngagementSurvey\\\" is : \", df.EngagementSurvey.std())"
      ],
      "metadata": {
        "colab": {
          "base_uri": "https://localhost:8080/"
        },
        "id": "PgNEHzapdSVO",
        "outputId": "2843749b-6410-4d12-9fac-0e744e7b0f42"
      },
      "execution_count": 10,
      "outputs": [
        {
          "output_type": "stream",
          "name": "stdout",
          "text": [
            "Standard Deviation of \"EngagementSurvey\" is :  0.7901503845679004\n"
          ]
        }
      ]
    },
    {
      "cell_type": "markdown",
      "source": [
        "#### **Question 4 : Find the relationship between “MaritalDesc”, “Department” and “EngagementSurvey” using any graph you choose.**"
      ],
      "metadata": {
        "id": "Te-qhNdWhSke"
      }
    },
    {
      "cell_type": "code",
      "source": [
        "#Seaborn relational plot\n",
        "\n",
        "sns.relplot(data=df, x=\"Department\", y=\"EngagementSurvey\", hue=\"MaritalDesc\", aspect=2).set(title='Relationship between “MaritalDesc”, “Department” and “EngagementSurvey”')"
      ],
      "metadata": {
        "colab": {
          "base_uri": "https://localhost:8080/",
          "height": 402
        },
        "id": "9DQtuQkklM3z",
        "outputId": "0117a19e-386e-4c0f-c4fd-724f0c9e5eb7"
      },
      "execution_count": 11,
      "outputs": [
        {
          "output_type": "execute_result",
          "data": {
            "text/plain": [
              "<seaborn.axisgrid.FacetGrid at 0x7fbd8b146b50>"
            ]
          },
          "metadata": {},
          "execution_count": 11
        },
        {
          "output_type": "display_data",
          "data": {
            "text/plain": [
              "<Figure size 807.375x360 with 1 Axes>"
            ],
            "image/png": "[encoded data removed]"
          },
          "metadata": {
            "needs_background": "light"
          }
        }
      ]
    },
    {
      "cell_type": "markdown",
      "source": [
        "#### **Question 5 : Identify the Martial status of all “Active” staffs under “Simon Roup”.**"
      ],
      "metadata": {
        "id": "9zLcDCbnoBrt"
      }
    },
    {
      "cell_type": "code",
      "source": [
        "df.MaritalDesc.loc[(df[\"ManagerName\"]==\"Simon Roup\") & (df[\"EmploymentStatus\"]==\"Active\")]"
      ],
      "metadata": {
        "colab": {
          "base_uri": "https://localhost:8080/"
        },
        "id": "odg308NwoAbX",
        "outputId": "9be7d190-8c12-4280-e0fa-8be83f3d9798"
      },
      "execution_count": 12,
      "outputs": [
        {
          "output_type": "execute_result",
          "data": {
            "text/plain": [
              "12     Divorced\n",
              "39       Single\n",
              "57      Married\n",
              "130      Single\n",
              "144     Married\n",
              "220     Married\n",
              "238     Married\n",
              "254     Married\n",
              "309      Single\n",
              "Name: MaritalDesc, dtype: object"
            ]
          },
          "metadata": {},
          "execution_count": 12
        }
      ]
    },
    {
      "cell_type": "markdown",
      "source": [
        "#### **Question 6: Identify all persons who meet “EngagementSurvey” greater than 4.2.**"
      ],
      "metadata": {
        "id": "6kwPaj-upn_A"
      }
    },
    {
      "cell_type": "code",
      "source": [
        "df.loc[df['EngagementSurvey'] > 4.2]"
      ],
      "metadata": {
        "colab": {
          "base_uri": "https://localhost:8080/",
          "height": 626
        },
        "id": "YoHatbdCr2dn",
        "outputId": "931d25ed-52b4-4a76-e3dc-1fdd21d49cc5"
      },
      "execution_count": 13,
      "outputs": [
        {
          "output_type": "execute_result",
          "data": {
            "text/plain": [
              "                Employee_Name  EmpID  MarriedID  MaritalStatusID  GenderID  \\\n",
              "0         Adinolfi, Wilson  K  10026          0                0         1   \n",
              "1    Ait Sidi, Karthikeyan     10084          1                1         1   \n",
              "3                Alagbe,Trina  10088          1                1         0   \n",
              "4            Anderson, Carol   10069          0                2         0   \n",
              "5           Anderson, Linda    10002          0                0         0   \n",
              "..                        ...    ...        ...              ...       ...   \n",
              "303     Williams, Jacquelyn    10264          0                0         0   \n",
              "304        Winthrop, Jordan    10033          0                0         1   \n",
              "308          Zamora, Jennifer  10010          0                0         0   \n",
              "309               Zhou, Julia  10043          0                0         0   \n",
              "310             Zima, Colleen  10271          0                4         0   \n",
              "\n",
              "     EmpStatusID  DeptID  PerfScoreID  FromDiversityJobFairID  Salary  ...  \\\n",
              "0              1       5            4                       0   62506  ...   \n",
              "1              5       3            3                       0  104437  ...   \n",
              "3              1       5            3                       0   64991  ...   \n",
              "4              5       5            3                       0   50825  ...   \n",
              "5              1       5            4                       0   57568  ...   \n",
              "..           ...     ...          ...                     ...     ...  ...   \n",
              "303            5       5            3                       1   59728  ...   \n",
              "304            5       5            4                       0   70507  ...   \n",
              "308            1       3            4                       0  220450  ...   \n",
              "309            1       3            3                       0   89292  ...   \n",
              "310            1       5            3                       0   45046  ...   \n",
              "\n",
              "        ManagerName  ManagerID   RecruitmentSource PerformanceScore  \\\n",
              "0    Michael Albert       22.0            LinkedIn          Exceeds   \n",
              "1        Simon Roup        4.0              Indeed      Fully Meets   \n",
              "3      Elijiah Gray       16.0              Indeed      Fully Meets   \n",
              "4    Webster Butler       39.0       Google Search      Fully Meets   \n",
              "5          Amy Dunn       11.0            LinkedIn          Exceeds   \n",
              "..              ...        ...                 ...              ...   \n",
              "303   Ketsia Liebig       19.0  Diversity Job Fair      Fully Meets   \n",
              "304  Brannon Miller       12.0            LinkedIn          Exceeds   \n",
              "308      Janet King        2.0   Employee Referral          Exceeds   \n",
              "309      Simon Roup        4.0   Employee Referral      Fully Meets   \n",
              "310   David Stanley       14.0            LinkedIn      Fully Meets   \n",
              "\n",
              "     EngagementSurvey EmpSatisfaction SpecialProjectsCount  \\\n",
              "0                4.60               5                    0   \n",
              "1                4.96               3                    6   \n",
              "3                4.84               5                    0   \n",
              "4                5.00               4                    0   \n",
              "5                5.00               5                    0   \n",
              "..                ...             ...                  ...   \n",
              "303              4.30               4                    0   \n",
              "304              5.00               3                    0   \n",
              "308              4.60               5                    6   \n",
              "309              5.00               3                    5   \n",
              "310              4.50               5                    0   \n",
              "\n",
              "    LastPerformanceReview_Date DaysLateLast30 Absences  \n",
              "0                    1/17/2019              0        1  \n",
              "1                    2/24/2016              0       17  \n",
              "3                     1/3/2019              0       15  \n",
              "4                     2/1/2016              0        2  \n",
              "5                     1/7/2019              0       15  \n",
              "..                         ...            ...      ...  \n",
              "303                   6/2/2014              0       16  \n",
              "304                  1/19/2016              0        7  \n",
              "308                  2/21/2019              0       16  \n",
              "309                   2/1/2019              0       11  \n",
              "310                  1/30/2019              0        2  \n",
              "\n",
              "[160 rows x 36 columns]"
            ],
            "text/html": [
              "\n",
              "  <div id=\"df-01fee12b-a1c4-44af-b6ad-57592fa81901\">\n",
              "    <div class=\"colab-df-container\">\n",
              "      <div>\n",
              "<style scoped>\n",
              "    .dataframe tbody tr th:only-of-type {\n",
              "        vertical-align: middle;\n",
              "    }\n",
              "\n",
              "    .dataframe tbody tr th {\n",
              "        vertical-align: top;\n",
              "    }\n",
              "\n",
              "    .dataframe thead th {\n",
              "        text-align: right;\n",
              "    }\n",
              "</style>\n",
              "<table border=\"1\" class=\"dataframe\">\n",
              "  <thead>\n",
              "    <tr style=\"text-align: right;\">\n",
              "      <th></th>\n",
              "      <th>Employee_Name</th>\n",
              "      <th>EmpID</th>\n",
              "      <th>MarriedID</th>\n",
              "      <th>MaritalStatusID</th>\n",
              "      <th>GenderID</th>\n",
              "      <th>EmpStatusID</th>\n",
              "      <th>DeptID</th>\n",
              "      <th>PerfScoreID</th>\n",
              "      <th>FromDiversityJobFairID</th>\n",
              "      <th>Salary</th>\n",
              "      <th>...</th>\n",
              "      <th>ManagerName</th>\n",
              "      <th>ManagerID</th>\n",
              "      <th>RecruitmentSource</th>\n",
              "      <th>PerformanceScore</th>\n",
              "      <th>EngagementSurvey</th>\n",
              "      <th>EmpSatisfaction</th>\n",
              "      <th>SpecialProjectsCount</th>\n",
              "      <th>LastPerformanceReview_Date</th>\n",
              "      <th>DaysLateLast30</th>\n",
              "      <th>Absences</th>\n",
              "    </tr>\n",
              "  </thead>\n",
              "  <tbody>\n",
              "    <tr>\n",
              "      <th>0</th>\n",
              "      <td>Adinolfi, Wilson  K</td>\n",
              "      <td>10026</td>\n",
              "      <td>0</td>\n",
              "      <td>0</td>\n",
              "      <td>1</td>\n",
              "      <td>1</td>\n",
              "      <td>5</td>\n",
              "      <td>4</td>\n",
              "      <td>0</td>\n",
              "      <td>62506</td>\n",
              "      <td>...</td>\n",
              "      <td>Michael Albert</td>\n",
              "      <td>22.0</td>\n",
              "      <td>LinkedIn</td>\n",
              "      <td>Exceeds</td>\n",
              "      <td>4.60</td>\n",
              "      <td>5</td>\n",
              "      <td>0</td>\n",
              "      <td>1/17/2019</td>\n",
              "      <td>0</td>\n",
              "      <td>1</td>\n",
              "    </tr>\n",
              "    <tr>\n",
              "      <th>1</th>\n",
              "      <td>Ait Sidi, Karthikeyan</td>\n",
              "      <td>10084</td>\n",
              "      <td>1</td>\n",
              "      <td>1</td>\n",
              "      <td>1</td>\n",
              "      <td>5</td>\n",
              "      <td>3</td>\n",
              "      <td>3</td>\n",
              "      <td>0</td>\n",
              "      <td>104437</td>\n",
              "      <td>...</td>\n",
              "      <td>Simon Roup</td>\n",
              "      <td>4.0</td>\n",
              "      <td>Indeed</td>\n",
              "      <td>Fully Meets</td>\n",
              "      <td>4.96</td>\n",
              "      <td>3</td>\n",
              "      <td>6</td>\n",
              "      <td>2/24/2016</td>\n",
              "      <td>0</td>\n",
              "      <td>17</td>\n",
              "    </tr>\n",
              "    <tr>\n",
              "      <th>3</th>\n",
              "      <td>Alagbe,Trina</td>\n",
              "      <td>10088</td>\n",
              "      <td>1</td>\n",
              "      <td>1</td>\n",
              "      <td>0</td>\n",
              "      <td>1</td>\n",
              "      <td>5</td>\n",
              "      <td>3</td>\n",
              "      <td>0</td>\n",
              "      <td>64991</td>\n",
              "      <td>...</td>\n",
              "      <td>Elijiah Gray</td>\n",
              "      <td>16.0</td>\n",
              "      <td>Indeed</td>\n",
              "      <td>Fully Meets</td>\n",
              "      <td>4.84</td>\n",
              "      <td>5</td>\n",
              "      <td>0</td>\n",
              "      <td>1/3/2019</td>\n",
              "      <td>0</td>\n",
              "      <td>15</td>\n",
              "    </tr>\n",
              "    <tr>\n",
              "      <th>4</th>\n",
              "      <td>Anderson, Carol</td>\n",
              "      <td>10069</td>\n",
              "      <td>0</td>\n",
              "      <td>2</td>\n",
              "      <td>0</td>\n",
              "      <td>5</td>\n",
              "      <td>5</td>\n",
              "      <td>3</td>\n",
              "      <td>0</td>\n",
              "      <td>50825</td>\n",
              "      <td>...</td>\n",
              "      <td>Webster Butler</td>\n",
              "      <td>39.0</td>\n",
              "      <td>Google Search</td>\n",
              "      <td>Fully Meets</td>\n",
              "      <td>5.00</td>\n",
              "      <td>4</td>\n",
              "      <td>0</td>\n",
              "      <td>2/1/2016</td>\n",
              "      <td>0</td>\n",
              "      <td>2</td>\n",
              "    </tr>\n",
              "    <tr>\n",
              "      <th>5</th>\n",
              "      <td>Anderson, Linda</td>\n",
              "      <td>10002</td>\n",
              "      <td>0</td>\n",
              "      <td>0</td>\n",
              "      <td>0</td>\n",
              "      <td>1</td>\n",
              "      <td>5</td>\n",
              "      <td>4</td>\n",
              "      <td>0</td>\n",
              "      <td>57568</td>\n",
              "      <td>...</td>\n",
              "      <td>Amy Dunn</td>\n",
              "      <td>11.0</td>\n",
              "      <td>LinkedIn</td>\n",
              "      <td>Exceeds</td>\n",
              "      <td>5.00</td>\n",
              "      <td>5</td>\n",
              "      <td>0</td>\n",
              "      <td>1/7/2019</td>\n",
              "      <td>0</td>\n",
              "      <td>15</td>\n",
              "    </tr>\n",
              "    <tr>\n",
              "      <th>...</th>\n",
              "      <td>...</td>\n",
              "      <td>...</td>\n",
              "      <td>...</td>\n",
              "      <td>...</td>\n",
              "      <td>...</td>\n",
              "      <td>...</td>\n",
              "      <td>...</td>\n",
              "      <td>...</td>\n",
              "      <td>...</td>\n",
              "      <td>...</td>\n",
              "      <td>...</td>\n",
              "      <td>...</td>\n",
              "      <td>...</td>\n",
              "      <td>...</td>\n",
              "      <td>...</td>\n",
              "      <td>...</td>\n",
              "      <td>...</td>\n",
              "      <td>...</td>\n",
              "      <td>...</td>\n",
              "      <td>...</td>\n",
              "      <td>...</td>\n",
              "    </tr>\n",
              "    <tr>\n",
              "      <th>303</th>\n",
              "      <td>Williams, Jacquelyn</td>\n",
              "      <td>10264</td>\n",
              "      <td>0</td>\n",
              "      <td>0</td>\n",
              "      <td>0</td>\n",
              "      <td>5</td>\n",
              "      <td>5</td>\n",
              "      <td>3</td>\n",
              "      <td>1</td>\n",
              "      <td>59728</td>\n",
              "      <td>...</td>\n",
              "      <td>Ketsia Liebig</td>\n",
              "      <td>19.0</td>\n",
              "      <td>Diversity Job Fair</td>\n",
              "      <td>Fully Meets</td>\n",
              "      <td>4.30</td>\n",
              "      <td>4</td>\n",
              "      <td>0</td>\n",
              "      <td>6/2/2014</td>\n",
              "      <td>0</td>\n",
              "      <td>16</td>\n",
              "    </tr>\n",
              "    <tr>\n",
              "      <th>304</th>\n",
              "      <td>Winthrop, Jordan</td>\n",
              "      <td>10033</td>\n",
              "      <td>0</td>\n",
              "      <td>0</td>\n",
              "      <td>1</td>\n",
              "      <td>5</td>\n",
              "      <td>5</td>\n",
              "      <td>4</td>\n",
              "      <td>0</td>\n",
              "      <td>70507</td>\n",
              "      <td>...</td>\n",
              "      <td>Brannon Miller</td>\n",
              "      <td>12.0</td>\n",
              "      <td>LinkedIn</td>\n",
              "      <td>Exceeds</td>\n",
              "      <td>5.00</td>\n",
              "      <td>3</td>\n",
              "      <td>0</td>\n",
              "      <td>1/19/2016</td>\n",
              "      <td>0</td>\n",
              "      <td>7</td>\n",
              "    </tr>\n",
              "    <tr>\n",
              "      <th>308</th>\n",
              "      <td>Zamora, Jennifer</td>\n",
              "      <td>10010</td>\n",
              "      <td>0</td>\n",
              "      <td>0</td>\n",
              "      <td>0</td>\n",
              "      <td>1</td>\n",
              "      <td>3</td>\n",
              "      <td>4</td>\n",
              "      <td>0</td>\n",
              "      <td>220450</td>\n",
              "      <td>...</td>\n",
              "      <td>Janet King</td>\n",
              "      <td>2.0</td>\n",
              "      <td>Employee Referral</td>\n",
              "      <td>Exceeds</td>\n",
              "      <td>4.60</td>\n",
              "      <td>5</td>\n",
              "      <td>6</td>\n",
              "      <td>2/21/2019</td>\n",
              "      <td>0</td>\n",
              "      <td>16</td>\n",
              "    </tr>\n",
              "    <tr>\n",
              "      <th>309</th>\n",
              "      <td>Zhou, Julia</td>\n",
              "      <td>10043</td>\n",
              "      <td>0</td>\n",
              "      <td>0</td>\n",
              "      <td>0</td>\n",
              "      <td>1</td>\n",
              "      <td>3</td>\n",
              "      <td>3</td>\n",
              "      <td>0</td>\n",
              "      <td>89292</td>\n",
              "      <td>...</td>\n",
              "      <td>Simon Roup</td>\n",
              "      <td>4.0</td>\n",
              "      <td>Employee Referral</td>\n",
              "      <td>Fully Meets</td>\n",
              "      <td>5.00</td>\n",
              "      <td>3</td>\n",
              "      <td>5</td>\n",
              "      <td>2/1/2019</td>\n",
              "      <td>0</td>\n",
              "      <td>11</td>\n",
              "    </tr>\n",
              "    <tr>\n",
              "      <th>310</th>\n",
              "      <td>Zima, Colleen</td>\n",
              "      <td>10271</td>\n",
              "      <td>0</td>\n",
              "      <td>4</td>\n",
              "      <td>0</td>\n",
              "      <td>1</td>\n",
              "      <td>5</td>\n",
              "      <td>3</td>\n",
              "      <td>0</td>\n",
              "      <td>45046</td>\n",
              "      <td>...</td>\n",
              "      <td>David Stanley</td>\n",
              "      <td>14.0</td>\n",
              "      <td>LinkedIn</td>\n",
              "      <td>Fully Meets</td>\n",
              "      <td>4.50</td>\n",
              "      <td>5</td>\n",
              "      <td>0</td>\n",
              "      <td>1/30/2019</td>\n",
              "      <td>0</td>\n",
              "      <td>2</td>\n",
              "    </tr>\n",
              "  </tbody>\n",
              "</table>\n",
              "<p>160 rows × 36 columns</p>\n",
              "</div>\n",
              "      <button class=\"colab-df-convert\" onclick=\"convertToInteractive('df-01fee12b-a1c4-44af-b6ad-57592fa81901')\"\n",
              "              title=\"Convert this dataframe to an interactive table.\"\n",
              "              style=\"display:none;\">\n",
              "        \n",
              "  <svg xmlns=\"http://www.w3.org/2000/svg\" height=\"24px\"viewBox=\"0 0 24 24\"\n",
              "       width=\"24px\">\n",
              "    <path d=\"M0 0h24v24H0V0z\" fill=\"none\"/>\n",
              "    <path d=\"M18.56 5.44l.94 2.06.94-2.06 2.06-.94-2.06-.94-.94-2.06-.94 2.06-2.06.94zm-11 1L8.5 8.5l.94-2.06 2.06-.94-2.06-.94L8.5 2.5l-.94 2.06-2.06.94zm10 10l.94 2.06.94-2.06 2.06-.94-2.06-.94-.94-2.06-.94 2.06-2.06.94z\"/><path d=\"M17.41 7.96l-1.37-1.37c-.4-.4-.92-.59-1.43-.59-.52 0-1.04.2-1.43.59L10.3 9.45l-7.72 7.72c-.78.78-.78 2.05 0 2.83L4 21.41c.39.39.9.59 1.41.59.51 0 1.02-.2 1.41-.59l7.78-7.78 2.81-2.81c.8-.78.8-2.07 0-2.86zM5.41 20L4 18.59l7.72-7.72 1.47 1.35L5.41 20z\"/>\n",
              "  </svg>\n",
              "      </button>\n",
              "      \n",
              "  <style>\n",
              "    .colab-df-container {\n",
              "      display:flex;\n",
              "      flex-wrap:wrap;\n",
              "      gap: 12px;\n",
              "    }\n",
              "\n",
              "    .colab-df-convert {\n",
              "      background-color: #E8F0FE;\n",
              "      border: none;\n",
              "      border-radius: 50%;\n",
              "      cursor: pointer;\n",
              "      display: none;\n",
              "      fill: #1967D2;\n",
              "      height: 32px;\n",
              "      padding: 0 0 0 0;\n",
              "      width: 32px;\n",
              "    }\n",
              "\n",
              "    .colab-df-convert:hover {\n",
              "      background-color: #E2EBFA;\n",
              "      box-shadow: 0px 1px 2px rgba(60, 64, 67, 0.3), 0px 1px 3px 1px rgba(60, 64, 67, 0.15);\n",
              "      fill: #174EA6;\n",
              "    }\n",
              "\n",
              "    [theme=dark] .colab-df-convert {\n",
              "      background-color: #3B4455;\n",
              "      fill: #D2E3FC;\n",
              "    }\n",
              "\n",
              "    [theme=dark] .colab-df-convert:hover {\n",
              "      background-color: #434B5C;\n",
              "      box-shadow: 0px 1px 3px 1px rgba(0, 0, 0, 0.15);\n",
              "      filter: drop-shadow(0px 1px 2px rgba(0, 0, 0, 0.3));\n",
              "      fill: #FFFFFF;\n",
              "    }\n",
              "  </style>\n",
              "\n",
              "      <script>\n",
              "        const buttonEl =\n",
              "          document.querySelector('#df-01fee12b-a1c4-44af-b6ad-57592fa81901 button.colab-df-convert');\n",
              "        buttonEl.style.display =\n",
              "          google.colab.kernel.accessAllowed ? 'block' : 'none';\n",
              "\n",
              "        async function convertToInteractive(key) {\n",
              "          const element = document.querySelector('#df-01fee12b-a1c4-44af-b6ad-57592fa81901');\n",
              "          const dataTable =\n",
              "            await google.colab.kernel.invokeFunction('convertToInteractive',\n",
              "                                                     [key], {});\n",
              "          if (!dataTable) return;\n",
              "\n",
              "          const docLinkHtml = 'Like what you see? Visit the ' +\n",
              "            '<a target=\"_blank\" href=https://colab.research.google.com/notebooks/data_table.ipynb>data table notebook</a>'\n",
              "            + ' to learn more about interactive tables.';\n",
              "          element.innerHTML = '';\n",
              "          dataTable['output_type'] = 'display_data';\n",
              "          await google.colab.output.renderOutput(dataTable, element);\n",
              "          const docLink = document.createElement('div');\n",
              "          docLink.innerHTML = docLinkHtml;\n",
              "          element.appendChild(docLink);\n",
              "        }\n",
              "      </script>\n",
              "    </div>\n",
              "  </div>\n",
              "  "
            ]
          },
          "metadata": {},
          "execution_count": 13
        }
      ]
    },
    {
      "cell_type": "markdown",
      "source": [
        "##### **a) How many of them have been selected from LinkedIn.**"
      ],
      "metadata": {
        "id": "-IMX8_WcptlW"
      }
    },
    {
      "cell_type": "code",
      "source": [
        "c = df.EngagementSurvey.loc[(df['EngagementSurvey'] > 4.2) & (df['RecruitmentSource']==\"LinkedIn\")].count()\n",
        "print(\"Number of person with \\\"EngagementSurvey\\\" greater than 4.2 selected from LinkedIn are : \", c)"
      ],
      "metadata": {
        "colab": {
          "base_uri": "https://localhost:8080/"
        },
        "id": "DR13vUKxpX-E",
        "outputId": "e8c519a9-0ae6-423a-e505-d2ce860ee8ef"
      },
      "execution_count": 14,
      "outputs": [
        {
          "output_type": "stream",
          "name": "stdout",
          "text": [
            "Number of person with \"EngagementSurvey\" greater than 4.2 selected from LinkedIn are :  41\n"
          ]
        }
      ]
    },
    {
      "cell_type": "markdown",
      "source": [
        "##### **b) How many of them are terminated but have “PerformanceScore” as “Exceeds”.**"
      ],
      "metadata": {
        "id": "tWibBUOrp-Yw"
      }
    },
    {
      "cell_type": "code",
      "source": [
        "c = df.EngagementSurvey.loc[(df['EngagementSurvey'] > 4.2) & (df['EmploymentStatus']!=\"Active\") & (df['PerformanceScore']==\"Exceeds\")].count()\n",
        "print(\"Number of person with \\\"EngagementSurvey\\\" greater than 4.2, who are \\\"Terminated\\\" but have \\\"PerformanceScore\\\" as \\\"Exceeds\\\" are: \", c)"
      ],
      "metadata": {
        "colab": {
          "base_uri": "https://localhost:8080/"
        },
        "id": "YsTRN17Sqtbh",
        "outputId": "b9cf8b6e-b35f-40f8-917d-d519d55b29d7"
      },
      "execution_count": 15,
      "outputs": [
        {
          "output_type": "stream",
          "name": "stdout",
          "text": [
            "Number of person with \"EngagementSurvey\" greater than 4.2, who are \"Terminated\" but have \"PerformanceScore\" as \"Exceeds\" are:  6\n"
          ]
        }
      ]
    },
    {
      "cell_type": "markdown",
      "source": [
        "## **PART - B**"
      ],
      "metadata": {
        "id": "GDMv1nZDySPI"
      }
    },
    {
      "cell_type": "markdown",
      "source": [
        "#### **Question 1 : Use any of the shared data's columns to create the following graphs in Python with Seaborn.**"
      ],
      "metadata": {
        "id": "WwjKLVQ-ya8W"
      }
    },
    {
      "cell_type": "markdown",
      "source": [
        "##### **a) Line chart**"
      ],
      "metadata": {
        "id": "xUkTwWcTyvrO"
      }
    },
    {
      "cell_type": "code",
      "source": [
        "# Line plot between Performance Score and Salary with red line and markers.\n",
        "\n",
        "sns.lineplot(data = df, x = \"PerformanceScore\", y = \"Salary\", ci = None, marker = \"o\", color = \"red\").set(title = 'Peformance Score vs Salary')"
      ],
      "metadata": {
        "colab": {
          "base_uri": "https://localhost:8080/",
          "height": 312
        },
        "id": "RONXyd2ByZid",
        "outputId": "7bf07c54-58d5-4b78-e0dc-e6f43afb8e4a"
      },
      "execution_count": 16,
      "outputs": [
        {
          "output_type": "execute_result",
          "data": {
            "text/plain": [
              "[Text(0.5, 1.0, 'Peformance Score vs Salary')]"
            ]
          },
          "metadata": {},
          "execution_count": 16
        },
        {
          "output_type": "display_data",
          "data": {
            "text/plain": [
              "<Figure size 432x288 with 1 Axes>"
            ],
            "image/png": "[encoded data removed]"
          },
          "metadata": {
            "needs_background": "light"
          }
        }
      ]
    },
    {
      "cell_type": "markdown",
      "source": [
        "##### **b) Pie chart**"
      ],
      "metadata": {
        "id": "PGdxlWq1256z"
      }
    },
    {
      "cell_type": "code",
      "source": [
        "# Pie chart of sum of Salaries by Performance Score.\n",
        "\n",
        "colors = sns.color_palette('bright')\n",
        "gb = df.groupby(\"PerformanceScore\")\n",
        "plt.title(\"Total Salaries for each Performance Score\")\n",
        "plt.pie(gb.Salary.sum(), labels = gb.PerformanceScore.max(), colors = colors, autopct='%.1f%%')\n",
        "plt.show()"
      ],
      "metadata": {
        "colab": {
          "base_uri": "https://localhost:8080/",
          "height": 264
        },
        "id": "nMbumQxe25Hd",
        "outputId": "2a742212-5ace-4c55-e6d4-1c0019b10f96"
      },
      "execution_count": 17,
      "outputs": [
        {
          "output_type": "display_data",
          "data": {
            "text/plain": [
              "<Figure size 432x288 with 1 Axes>"
            ],
            "image/png": "[encoded data removed]"
          },
          "metadata": {}
        }
      ]
    },
    {
      "cell_type": "markdown",
      "source": [
        "##### **c) Bar graph**"
      ],
      "metadata": {
        "id": "jXg6Lk2v81GX"
      }
    },
    {
      "cell_type": "code",
      "source": [
        "# Bar plot(horizontal) between Recruitment Source and Salary.\n",
        "\n",
        "sns.barplot(data = df, x = \"Salary\", y = \"RecruitmentSource\", orient = \"h\", palette = \"bright\", ci = None)"
      ],
      "metadata": {
        "colab": {
          "base_uri": "https://localhost:8080/",
          "height": 296
        },
        "id": "YgvirWmL80QO",
        "outputId": "72ac8576-9d09-4f2a-936c-493c0c503f4d"
      },
      "execution_count": 18,
      "outputs": [
        {
          "output_type": "execute_result",
          "data": {
            "text/plain": [
              "<matplotlib.axes._subplots.AxesSubplot at 0x7fbd882df790>"
            ]
          },
          "metadata": {},
          "execution_count": 18
        },
        {
          "output_type": "display_data",
          "data": {
            "text/plain": [
              "<Figure size 432x288 with 1 Axes>"
            ],
            "image/png": "[encoded data removed]"
          },
          "metadata": {
            "needs_background": "light"
          }
        }
      ]
    },
    {
      "cell_type": "markdown",
      "source": [
        "##### **d) Scatter plot**"
      ],
      "metadata": {
        "id": "Kc78bgZa_qsO"
      }
    },
    {
      "cell_type": "code",
      "source": [
        "# Scatter plot between Salary vs Absences for each Performance Score.\n",
        "\n",
        "sns.scatterplot(data = df, x = \"Absences\", y = \"Salary\", hue = \"PerformanceScore\").set(title = \"Salary vs Absences by Performance Score\")"
      ],
      "metadata": {
        "colab": {
          "base_uri": "https://localhost:8080/",
          "height": 312
        },
        "id": "KctG8Jze_Hwo",
        "outputId": "a8b46b6b-9b85-4369-a229-5f83ce891e63"
      },
      "execution_count": 19,
      "outputs": [
        {
          "output_type": "execute_result",
          "data": {
            "text/plain": [
              "[Text(0.5, 1.0, 'Salary vs Absences by Performance Score')]"
            ]
          },
          "metadata": {},
          "execution_count": 19
        },
        {
          "output_type": "display_data",
          "data": {
            "text/plain": [
              "<Figure size 432x288 with 1 Axes>"
            ],
            "image/png": "[encoded data removed]"
          },
          "metadata": {
            "needs_background": "light"
          }
        }
      ]
    },
    {
      "cell_type": "markdown",
      "source": [
        "##### **e) Histogram**"
      ],
      "metadata": {
        "id": "l2hRg07cDurY"
      }
    },
    {
      "cell_type": "code",
      "source": [
        "# Histogram of Salary with each Performance Score frequency.\n",
        "\n",
        "fig, ax = plt.subplots(figsize=(12, 6))\n",
        "sns.histplot(data = df, x = \"Salary\", hue = \"PerformanceScore\", ax = ax)"
      ],
      "metadata": {
        "colab": {
          "base_uri": "https://localhost:8080/",
          "height": 405
        },
        "id": "lbJRmq_fDnq-",
        "outputId": "e046d82c-0e99-4019-8623-15c168318419"
      },
      "execution_count": 34,
      "outputs": [
        {
          "output_type": "execute_result",
          "data": {
            "text/plain": [
              "<matplotlib.axes._subplots.AxesSubplot at 0x7fbd8663b280>"
            ]
          },
          "metadata": {},
          "execution_count": 34
        },
        {
          "output_type": "display_data",
          "data": {
            "text/plain": [
              "<Figure size 864x432 with 1 Axes>"
            ],
            "image/png": "[encoded data removed]"
          },
          "metadata": {
            "needs_background": "light"
          }
        }
      ]
    },
    {
      "cell_type": "markdown",
      "source": [
        "#### **Question 2 : Distinguish the difference between  decorators and generators using some example.**"
      ],
      "metadata": {
        "id": "oWQ4h6WSMj7m"
      }
    },
    {
      "cell_type": "markdown",
      "source": [
        "##### **Decorators**"
      ],
      "metadata": {
        "id": "QSUdVeGDNDgo"
      }
    },
    {
      "cell_type": "markdown",
      "source": [
        "Decorators are functions that modify the behavior of other functions without changing their source code. They take a function as an argument, wrap it inside another function, and return the wrapped function. Decorators are often used to add extra functionality to functions, such as logging, timing, or caching.\n",
        "\n",
        "Here's an example of a decorator that modifies the behavior of a function by adding some extra functionality:"
      ],
      "metadata": {
        "id": "PD29AwanNRoL"
      }
    },
    {
      "cell_type": "code",
      "source": [
        "def add_one(func):\n",
        "    def wrapper(x):\n",
        "        result = func(x) + 1\n",
        "        return result\n",
        "    return wrapper\n",
        "\n",
        "@add_one\n",
        "def add(x):\n",
        "    return x + 2\n",
        "\n",
        "print(add(3))"
      ],
      "metadata": {
        "colab": {
          "base_uri": "https://localhost:8080/"
        },
        "id": "cAhNw3RHM3O1",
        "outputId": "06f98520-2e42-4e16-a09c-f40a028122ab"
      },
      "execution_count": 39,
      "outputs": [
        {
          "output_type": "stream",
          "name": "stdout",
          "text": [
            "6\n"
          ]
        }
      ]
    },
    {
      "cell_type": "markdown",
      "source": [
        "In this example, we define a decorator called \"add_one\" that takes a function \"func\" as an argument, and returns a new function \"wrapper\". The \"wrapper\" function takes a single argument \"x\", calls the original function \"func\" with \"x\", adds \"1\" to the result, and returns the modified result.\n",
        "\n",
        "We apply the \"add_one\" decorator to the \"add\" function using the \"@add_one\" syntax. When we call \"add(3)\", the \"add_one\" decorator modifies the behavior of the \"add\" function by adding \"1\" to the result, so we get the output \"6\"."
      ],
      "metadata": {
        "id": "gSSYp6zNN5q9"
      }
    },
    {
      "cell_type": "markdown",
      "source": [
        "##### **Generators**"
      ],
      "metadata": {
        "id": "85JwNIxBOnV9"
      }
    },
    {
      "cell_type": "markdown",
      "source": [
        "A generator is a special type of function that returns an iterator, which can be used to iterate over a sequence of values. The key difference between a generator and a regular function is that a generator uses the yield keyword to return values one at a time, rather than returning all of the values at once.\n",
        "\n",
        "Here's an example of a simple generator that generates the first \"n\" Fibonacci numbers:"
      ],
      "metadata": {
        "id": "PHOEBzTCO10R"
      }
    },
    {
      "cell_type": "code",
      "source": [
        "def fibonacci(n):\n",
        "    a, b = 0, 1\n",
        "    for i in range(n):\n",
        "        yield a\n",
        "        a, b = b, a + b\n",
        "\n",
        "for num in fibonacci(10):\n",
        "    print(num)"
      ],
      "metadata": {
        "colab": {
          "base_uri": "https://localhost:8080/"
        },
        "id": "rWBcOY58O3Op",
        "outputId": "9bf75786-951e-4e97-92a7-f19d20ad0a05"
      },
      "execution_count": 40,
      "outputs": [
        {
          "output_type": "stream",
          "name": "stdout",
          "text": [
            "0\n",
            "1\n",
            "1\n",
            "2\n",
            "3\n",
            "5\n",
            "8\n",
            "13\n",
            "21\n",
            "34\n"
          ]
        }
      ]
    },
    {
      "cell_type": "markdown",
      "source": [
        "In this example, the \"fibonacci\" function is a generator that uses the \"yield\" keyword to generate the next Fibonacci number each time it is called. When we call \"fibonacci(10)\" in the \"for\" loop, we get back an iterator that generates the first 10 Fibonacci numbers one at a time.\n",
        "Generators are often used in conjunction with other built-in functions like \"zip\", \"map\", and \"filter\" to perform more complex operations on sequences of data."
      ],
      "metadata": {
        "id": "fUmJdmpwPZwt"
      }
    },
    {
      "cell_type": "markdown",
      "source": [
        "#### **Question 3 : Write a program to sort the items using IInsertion sort in reverse order.**"
      ],
      "metadata": {
        "id": "hQuEqTNsGCmk"
      }
    },
    {
      "cell_type": "code",
      "source": [
        "'''\n",
        "INSERTION SORT IN REVERSE ORDER\n",
        "'''\n",
        "\n",
        "# function for reverse insertion sort\n",
        "def insertion_sort_rev(arr):\n",
        "    for i in range(1, len(arr)):\n",
        "        key = arr[i]\n",
        "        j = i - 1\n",
        "        while j >= 0 and key > arr[j]:\n",
        "            arr[j + 1] = arr[j]\n",
        "            j -= 1\n",
        "        arr[j + 1] = key\n",
        "    return arr\n",
        "\n",
        "# Taking dynamic list input \n",
        "l = []\n",
        "n = int(input(\"Enter number of elements of list : \"))\n",
        "print()\n",
        "for i in range(n):\n",
        "  l.append(int(input(\"Enter element for {id} index : \".format(id = i))))\n",
        "\n",
        "print()\n",
        "print(\"Given list : \",l)\n",
        "\n",
        "# Calling function\n",
        "sorted_l = insertion_sort_rev(l)\n",
        "print()\n",
        "print(\"List sorted in reverse order using insertion sort : \",sorted_l)"
      ],
      "metadata": {
        "colab": {
          "base_uri": "https://localhost:8080/"
        },
        "id": "XKZwJKKAGDot",
        "outputId": "4fec6eaf-7627-4a02-92f6-d97c28b3a7f2"
      },
      "execution_count": 142,
      "outputs": [
        {
          "output_type": "stream",
          "name": "stdout",
          "text": [
            "Enter number of elements of list : 5\n",
            "\n",
            "Enter element for 0 index : 1\n",
            "Enter element for 1 index : 7\n",
            "Enter element for 2 index : 3\n",
            "Enter element for 3 index : 9\n",
            "Enter element for 4 index : 2\n",
            "\n",
            "Given list :  [1, 7, 3, 9, 2]\n",
            "\n",
            "List sorted in reverse order using insertion sort :  [9, 7, 3, 2, 1]\n"
          ]
        }
      ]
    },
    {
      "cell_type": "markdown",
      "source": [
        "#### **Question 4 : Create a sample data of normal distribution using Numpy and find the autocorrelation.**"
      ],
      "metadata": {
        "id": "yIoZ2F7pE0CS"
      }
    },
    {
      "cell_type": "code",
      "source": [
        "# Creating sample data of normal distribution\n",
        "mu, sigma = 0, 0.1  # mean and standard deviation\n",
        "data = np.random.normal(mu, sigma, 1000)\n",
        "\n",
        "# Plot the histogram of the sample data\n",
        "plt.title(\"Histogram for sample data\")\n",
        "plt.hist(data, bins=50)\n",
        "plt.show()\n",
        "\n",
        "# Calculate the autocorrelation of the sample data\n",
        "autocorr = np.correlate(data, data, mode='full')\n",
        "autocorr = autocorr[len(autocorr)//2:]  # Take the second half of the array\n",
        "autocorr /= autocorr[0]  # Normalize by the first element\n",
        "\n",
        "\n",
        "# Plot the autocorrelation\n",
        "plt.plot(autocorr)\n",
        "plt.title(\"Autocorrelation\")\n",
        "plt.xlabel('Lag')\n",
        "plt.ylabel('Autocorrelation')\n",
        "plt.show()"
      ],
      "metadata": {
        "colab": {
          "base_uri": "https://localhost:8080/",
          "height": 559
        },
        "id": "BzdfiEvFEXFy",
        "outputId": "5269ee2a-ca9b-4aa5-80e7-c26a5e90b641"
      },
      "execution_count": 134,
      "outputs": [
        {
          "output_type": "display_data",
          "data": {
            "text/plain": [
              "<Figure size 432x288 with 1 Axes>"
            ],
            "image/png": "[encoded data removed]"
          },
          "metadata": {
            "needs_background": "light"
          }
        },
        {
          "output_type": "display_data",
          "data": {
            "text/plain": [
              "<Figure size 432x288 with 1 Axes>"
            ],
            "image/png": "[encoded data removed]"
          },
          "metadata": {
            "needs_background": "light"
          }
        }
      ]
    }
  ]
}